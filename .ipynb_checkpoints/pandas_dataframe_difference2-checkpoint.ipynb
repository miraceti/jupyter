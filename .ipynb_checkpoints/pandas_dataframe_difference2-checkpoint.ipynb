{
 "cells": [
  {
   "cell_type": "code",
   "execution_count": 11,
   "metadata": {},
   "outputs": [
    {
     "name": "stdout",
     "output_type": "stream",
     "text": [
      "  nom  pid  cid pass  lenpwd\n",
      "0   a    0    0  000       3\n",
      "1   b    1    1  111       3\n",
      "2   c    2    2  222       3\n",
      "3   d    3    3  333       3\n",
      "4   e    4    4  444       3\n",
      "5   f    5    5  555       3\n",
      "6   g    6    6  666       3\n",
      "  nom    pass  lenpwd\n",
      "0   a     000       3\n",
      "1   b     111       3\n",
      "2   c  222222       6\n",
      "3   d     333       3\n",
      "4   e  444444       6\n",
      "5   f     555       3\n",
      "6   g     666       3\n"
     ]
    }
   ],
   "source": [
    "import pandas as pd\n",
    "import numpy as np\n",
    "d1 = [[\"a\",0,0,\"000\",3],[\"b\",1,1,\"111\",3],[\"c\",2,2,\"222\",3],[\"d\",3,3,\"333\",3],[\"e\",4,4,\"444\",3],[\"f\",5,5,\"555\",3],[\"g\",6,6,\"666\",3]]\n",
    "df1=pd.DataFrame(d1, columns=[\"nom\",\"pid\",\"cid\",\"pass\",\"lenpwd\"])\n",
    "print(df1)\n",
    "\n",
    "d2 = [[\"a\",\"000\",3],[\"b\",\"111\",3],[\"c\",\"222222\",6],[\"d\",\"333\",3],[\"e\",\"444444\",6],[\"f\",\"555\",3],[\"g\",\"666\",3]]\n",
    "df2=pd.DataFrame(d2, columns=[\"nom\",\"pass\",\"lenpwd\"])\n",
    "print(df2)"
   ]
  },
  {
   "cell_type": "code",
   "execution_count": 12,
   "metadata": {},
   "outputs": [
    {
     "name": "stdout",
     "output_type": "stream",
     "text": [
      "  nom  pid  cid pass  lenpwd _merge\n",
      "0   a  0.0  0.0  000       3   both\n",
      "1   b  1.0  1.0  111       3   both\n",
      "3   d  3.0  3.0  333       3   both\n",
      "5   f  5.0  5.0  555       3   both\n",
      "6   g  6.0  6.0  666       3   both\n"
     ]
    }
   ],
   "source": [
    "df11 = df1.merge(df2, indicator=True, how='outer').loc[lambda v: v['_merge'] == 'both']\n",
    "print(df11)"
   ]
  },
  {
   "cell_type": "code",
   "execution_count": 13,
   "metadata": {},
   "outputs": [
    {
     "name": "stdout",
     "output_type": "stream",
     "text": [
      "\n",
      " DF11  on ne garde que les lignes identiques \n",
      "  nom  pid  cid pass  lenpwd _merge\n",
      "0   a  0.0  0.0  000       3   both\n",
      "1   b  1.0  1.0  111       3   both\n",
      "3   d  3.0  3.0  333       3   both\n",
      "5   f  5.0  5.0  555       3   both\n",
      "6   g  6.0  6.0  666       3   both\n",
      "\n",
      " DF12 on ne garde que les colonnes du xls cible\n",
      "  nom  pid  cid pass\n",
      "0   a  0.0  0.0  000\n",
      "1   b  1.0  1.0  111\n",
      "3   d  3.0  3.0  333\n",
      "5   f  5.0  5.0  555\n",
      "6   g  6.0  6.0  666\n"
     ]
    }
   ],
   "source": [
    "print(\"\\n DF11  on ne garde que les lignes identiques \")\n",
    "df11 = df1.merge(df2, indicator=True, how='outer').loc[lambda v: v['_merge'] == 'both']\n",
    "print(df11)\n",
    "\n",
    "print(\"\\n DF12 on ne garde que les colonnes du xls cible\")\n",
    "df12 = df11[['nom','pid','cid','pass']]\n",
    "print(df12)\n",
    "\n",
    "print(\"\\n DF13 on ne garde que les lignes du xls cible\")\n",
    "df13 = df11[['nom','pid','cid','pass']]\n",
    "print(df13)"
   ]
  },
  {
   "cell_type": "code",
   "execution_count": null,
   "metadata": {},
   "outputs": [],
   "source": []
  }
 ],
 "metadata": {
  "kernelspec": {
   "display_name": "Python 3",
   "language": "python",
   "name": "python3"
  },
  "language_info": {
   "codemirror_mode": {
    "name": "ipython",
    "version": 3
   },
   "file_extension": ".py",
   "mimetype": "text/x-python",
   "name": "python",
   "nbconvert_exporter": "python",
   "pygments_lexer": "ipython3",
   "version": "3.7.9"
  }
 },
 "nbformat": 4,
 "nbformat_minor": 4
}
