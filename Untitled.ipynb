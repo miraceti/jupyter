{
 "cells": [
  {
   "cell_type": "code",
   "execution_count": 6,
   "metadata": {},
   "outputs": [],
   "source": [
    "import pandas as pd\n",
    "import numpy as np\n",
    "import pyodbc"
   ]
  },
  {
   "cell_type": "code",
   "execution_count": 4,
   "metadata": {},
   "outputs": [
    {
     "data": {
      "text/html": [
       "<div>\n",
       "<style scoped>\n",
       "    .dataframe tbody tr th:only-of-type {\n",
       "        vertical-align: middle;\n",
       "    }\n",
       "\n",
       "    .dataframe tbody tr th {\n",
       "        vertical-align: top;\n",
       "    }\n",
       "\n",
       "    .dataframe thead th {\n",
       "        text-align: right;\n",
       "    }\n",
       "</style>\n",
       "<table border=\"1\" class=\"dataframe\">\n",
       "  <thead>\n",
       "    <tr style=\"text-align: right;\">\n",
       "      <th></th>\n",
       "      <th>CONTRAT</th>\n",
       "      <th>GARANTIE</th>\n",
       "      <th>HT</th>\n",
       "      <th>TTC</th>\n",
       "    </tr>\n",
       "  </thead>\n",
       "  <tbody>\n",
       "    <tr>\n",
       "      <th>0</th>\n",
       "      <td>C1</td>\n",
       "      <td>G01</td>\n",
       "      <td>10.0</td>\n",
       "      <td>15.0</td>\n",
       "    </tr>\n",
       "    <tr>\n",
       "      <th>1</th>\n",
       "      <td>C1</td>\n",
       "      <td>G02</td>\n",
       "      <td>11.0</td>\n",
       "      <td>16.0</td>\n",
       "    </tr>\n",
       "    <tr>\n",
       "      <th>2</th>\n",
       "      <td>C1</td>\n",
       "      <td>G03</td>\n",
       "      <td>12.0</td>\n",
       "      <td>17.0</td>\n",
       "    </tr>\n",
       "    <tr>\n",
       "      <th>3</th>\n",
       "      <td>C2</td>\n",
       "      <td>G01</td>\n",
       "      <td>21.0</td>\n",
       "      <td>29.0</td>\n",
       "    </tr>\n",
       "    <tr>\n",
       "      <th>4</th>\n",
       "      <td>C2</td>\n",
       "      <td>G03</td>\n",
       "      <td>22.0</td>\n",
       "      <td>30.0</td>\n",
       "    </tr>\n",
       "  </tbody>\n",
       "</table>\n",
       "</div>"
      ],
      "text/plain": [
       "  CONTRAT GARANTIE    HT   TTC\n",
       "0      C1      G01  10.0  15.0\n",
       "1      C1      G02  11.0  16.0\n",
       "2      C1      G03  12.0  17.0\n",
       "3      C2      G01  21.0  29.0\n",
       "4      C2      G03  22.0  30.0"
      ]
     },
     "execution_count": 4,
     "metadata": {},
     "output_type": "execute_result"
    }
   ],
   "source": [
    "df = pd.DataFrame({'CONTRAT':['C1', 'C1','C1','C2','C2'], \n",
    "                   'GARANTIE':['G01', 'G02','G03','G01','G03'],\n",
    "                   'HT':[10.0,11.0,12.0,21.0,22.0],\n",
    "                   'TTC':[15.0,16.0,17.0,29.0,30.0]\n",
    "                  });df"
   ]
  },
  {
   "cell_type": "code",
   "execution_count": 7,
   "metadata": {},
   "outputs": [],
   "source": [
    "conn = pyodbc.connect('DSN=WINPASS_SATEC_RO_64;')"
   ]
  },
  {
   "cell_type": "code",
   "execution_count": 8,
   "metadata": {},
   "outputs": [],
   "source": [
    "sql1 = \"select * from table_cg1  where CONTRAT in( '10778', '11244','10933', '11026','11296','11300','11323','11355','11357','11365') \""
   ]
  },
  {
   "cell_type": "code",
   "execution_count": 9,
   "metadata": {},
   "outputs": [],
   "source": [
    "df = pd.read_sql_query(sql=sql1, con=conn)"
   ]
  },
  {
   "cell_type": "code",
   "execution_count": 11,
   "metadata": {},
   "outputs": [
    {
     "data": {
      "text/plain": [
       "Index(['f_NCONTRAT', 'CONTRAT', 'NC', 'REF_CGAIM', 'LCGAIM', 'AGENCE',\n",
       "       'AGENCE_A1', 'AGENCE_A2', 'AGENCE_CP', 'AGENCE_VILLE', 'CHANTIER1',\n",
       "       'CHANTIER2', 'CHANTIER3', 'CPCHANTIER', 'VILLECHANT', 'Debut', 'Fin',\n",
       "       'NATURE1', 'NATURE2', 'NATURE3', 'COUTTX', 'COUTTX1', 'COUTTX2',\n",
       "       'COUTTX3', 'COUTTX4', 'COUTTX5', 'COUTTX6', 'COUTTX7', 'COUTTX8',\n",
       "       'COUTTX9', 'GARANTIE', 'GARANTIEG', 'FRAIS', 'PRIME', 'HT', 'TTC',\n",
       "       'PRIMEG', 'TTCG', 'COM', 'ligq_commission', 'DTSITUATION', 'DOMAGIS_ON',\n",
       "       'DTRECOUVREMENT', 'MOUVEMENT', 'STATUT', 'TXCOM'],\n",
       "      dtype='object')"
      ]
     },
     "execution_count": 11,
     "metadata": {},
     "output_type": "execute_result"
    }
   ],
   "source": [
    "df.columns"
   ]
  },
  {
   "cell_type": "code",
   "execution_count": null,
   "metadata": {},
   "outputs": [],
   "source": []
  }
 ],
 "metadata": {
  "kernelspec": {
   "display_name": "Python 3",
   "language": "python",
   "name": "python3"
  },
  "language_info": {
   "name": ""
  }
 },
 "nbformat": 4,
 "nbformat_minor": 4
}
