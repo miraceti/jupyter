{
 "cells": [
  {
   "cell_type": "code",
   "execution_count": 3,
   "metadata": {},
   "outputs": [
    {
     "name": "stdout",
     "output_type": "stream",
     "text": [
      "  nom  pid  cid pass\n",
      "0   a    0    0  000\n",
      "1   b    1    1  111\n",
      "2   c    2    2  222\n",
      "3   d    3    3  333\n",
      "4   e    4    4  444\n",
      "5   f    5    5  555\n",
      "6   g    6    6  666\n",
      "  nom    pass\n",
      "0   a     000\n",
      "1   b     111\n",
      "2   c  222222\n",
      "3   d     333\n",
      "4   e  444444\n",
      "5   f     555\n",
      "6   g     666\n"
     ]
    }
   ],
   "source": [
    "import pandas as pd\n",
    "import numpy as np\n",
    "d1 = [[\"a\",0,0,\"000\"],[\"b\",1,1,\"111\"],[\"c\",2,2,\"222\"],[\"d\",3,3,\"333\"],[\"e\",4,4,\"444\"],[\"f\",5,5,\"555\"],[\"g\",6,6,\"666\"]]\n",
    "df1=pd.DataFrame(d1, columns=[\"nom\",\"pid\",\"cid\",\"pass\"])\n",
    "print(df1)\n",
    "\n",
    "d2 = [[\"a\",\"000\"],[\"b\",\"111\"],[\"c\",\"222222\"],[\"d\",\"333\"],[\"e\",\"444444\"],[\"f\",\"555\"],[\"g\",\"666\"]]\n",
    "df2=pd.DataFrame(d2, columns=[\"nom\",\"pass\"])\n",
    "print(df2)"
   ]
  },
  {
   "cell_type": "code",
   "execution_count": 7,
   "metadata": {},
   "outputs": [
    {
     "name": "stdout",
     "output_type": "stream",
     "text": [
      "  nom  pid  cid pass _merge\n",
      "0   a  0.0  0.0  000   both\n",
      "1   b  1.0  1.0  111   both\n",
      "3   d  3.0  3.0  333   both\n",
      "5   f  5.0  5.0  555   both\n",
      "6   g  6.0  6.0  666   both\n"
     ]
    }
   ],
   "source": [
    "df11 = df1.merge(df2, indicator=True, how='outer').loc[lambda v: v['_merge'] == 'both']\n",
    "print(df11)"
   ]
  },
  {
   "cell_type": "code",
   "execution_count": null,
   "metadata": {},
   "outputs": [],
   "source": []
  }
 ],
 "metadata": {
  "kernelspec": {
   "display_name": "Python 3",
   "language": "python",
   "name": "python3"
  },
  "language_info": {
   "codemirror_mode": {
    "name": "ipython",
    "version": 3
   },
   "file_extension": ".py",
   "mimetype": "text/x-python",
   "name": "python",
   "nbconvert_exporter": "python",
   "pygments_lexer": "ipython3",
   "version": "3.7.9"
  }
 },
 "nbformat": 4,
 "nbformat_minor": 4
}
