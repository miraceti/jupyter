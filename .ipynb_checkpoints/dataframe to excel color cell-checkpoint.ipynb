{
 "cells": [
  {
   "cell_type": "code",
   "execution_count": 1,
   "metadata": {
    "scrolled": true
   },
   "outputs": [
    {
     "name": "stdout",
     "output_type": "stream",
     "text": [
      "  nom  pclid  pocid\n",
      "0   a      1      1\n",
      "1   b      2      2\n",
      "2   c      3      3\n",
      "3   d      4      4\n",
      "  nom  pclid  pocid\n",
      "0   a      1      2\n",
      "1   b      2      2\n",
      "2   c      3      4\n",
      "3   d      4      4\n"
     ]
    }
   ],
   "source": [
    "import pandas as pd\n",
    "import numpy as np\n",
    "d1 =[[\"a\",1,1],[\"b\",2,2],[\"c\",3,3],[\"d\",4,4]]\n",
    "df1 =pd.DataFrame(d1, columns=[\"nom\",\"pclid\",\"pocid\"])\n",
    "print(df1)\n",
    "d2 =[[\"a\",1,2],[\"b\",2,2],[\"c\",3,4],[\"d\",4,4]]\n",
    "df2 =pd.DataFrame(d2, columns=[\"nom\",\"pclid\",\"pocid\"])\n",
    "print(df2)\n"
   ]
  },
  {
   "cell_type": "code",
   "execution_count": 2,
   "metadata": {},
   "outputs": [
    {
     "name": "stdout",
     "output_type": "stream",
     "text": [
      "  nom  pclid  pocid\n",
      "0   a      1      1\n",
      "2   c      3      3\n",
      "4   a      1      2\n",
      "6   c      3      4\n"
     ]
    }
   ],
   "source": [
    "df3 = pd.concat([df1,df2],ignore_index='True').drop_duplicates(keep=False)\n",
    "print(df3)"
   ]
  },
  {
   "cell_type": "code",
   "execution_count": 3,
   "metadata": {},
   "outputs": [
    {
     "name": "stdout",
     "output_type": "stream",
     "text": [
      "  nom_x  pclid_x  pocid nom_y  pclid_y\n",
      "0     b        2      2     a        1\n",
      "1     b        2      2     b        2\n",
      "2     d        4      4     c        3\n",
      "3     d        4      4     d        4\n"
     ]
    }
   ],
   "source": [
    "df4 = pd.merge(df1,df2,on='pocid')\n",
    "print(df4)"
   ]
  },
  {
   "cell_type": "code",
   "execution_count": 4,
   "metadata": {},
   "outputs": [
    {
     "name": "stdout",
     "output_type": "stream",
     "text": [
      "False\n"
     ]
    }
   ],
   "source": [
    "print(df1.equals(df2))"
   ]
  },
  {
   "cell_type": "code",
   "execution_count": 5,
   "metadata": {},
   "outputs": [
    {
     "name": "stdout",
     "output_type": "stream",
     "text": [
      "[[ True  True False]\n",
      " [ True  True  True]\n",
      " [ True  True False]\n",
      " [ True  True  True]]\n"
     ]
    }
   ],
   "source": [
    "compare12 = df1.values == df2.values\n",
    "print(compare12)"
   ]
  },
  {
   "cell_type": "code",
   "execution_count": 6,
   "metadata": {},
   "outputs": [],
   "source": [
    "#df6=pd.DataFrame()\n",
    "#rows,cols = np.where (compare12==False)\n",
    "\n",
    "#for item in zip(rows,cols):\n",
    "#    df1.iloc[item[0], item[1]] = '==> {}'.format( df2.iloc[item[0], item[1]])\n",
    "    \n",
    "#print(df1)"
   ]
  },
  {
   "cell_type": "code",
   "execution_count": 7,
   "metadata": {},
   "outputs": [
    {
     "name": "stdout",
     "output_type": "stream",
     "text": [
      "    avant       après      \n",
      "    pclid pocid pclid pocid\n",
      "nom                        \n",
      "a       1     1     1     2\n",
      "b       2     2     2     2\n",
      "c       3     3     3     4\n",
      "d       4     4     4     4\n",
      "**************************************************\n",
      "    pclid       pocid      \n",
      "    avant après avant après\n",
      "nom                        \n",
      "a       1     1     1     2\n",
      "b       2     2     2     2\n",
      "c       3     3     3     4\n",
      "d       4     4     4     4\n"
     ]
    }
   ],
   "source": [
    "df7 = pd.concat([df1.set_index('nom'),df2.set_index('nom')], axis='columns', keys=['avant','après'])\n",
    "df8 = df7.swaplevel(axis='columns')[df1.columns[1:]]\n",
    "\n",
    "print(df7)\n",
    "print(50*'*')\n",
    "print(df8)"
   ]
  },
  {
   "cell_type": "code",
   "execution_count": 8,
   "metadata": {},
   "outputs": [],
   "source": [
    "def hightlight(data, color='yellow'):\n",
    "    attr = 'background-color: {}'.format(color)\n",
    "    other = data.xs('avant', axis='columns', level=1)\n",
    "    return pd.DataFrame(np.where(data.ne(other, level=0), attr, ''), index=data.index, columns=data.columns)\n",
    "\n",
    "#df8.style.apply(hightlight, axis=None)\n",
    "df8.style.apply(hightlight, axis=None).to_excel('resultdf8.xlsx', engine='openpyxl')"
   ]
  },
  {
   "cell_type": "code",
   "execution_count": null,
   "metadata": {},
   "outputs": [],
   "source": []
  }
 ],
 "metadata": {
  "kernelspec": {
   "display_name": "Python 3",
   "language": "python",
   "name": "python3"
  },
  "language_info": {
   "codemirror_mode": {
    "name": "ipython",
    "version": 3
   },
   "file_extension": ".py",
   "mimetype": "text/x-python",
   "name": "python",
   "nbconvert_exporter": "python",
   "pygments_lexer": "ipython3",
   "version": "3.7.9"
  }
 },
 "nbformat": 4,
 "nbformat_minor": 4
}
